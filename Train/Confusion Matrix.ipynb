{
 "cells": [
  {
   "cell_type": "markdown",
   "id": "de5a1c34",
   "metadata": {},
   "source": [
    "# Confusion Matrix"
   ]
  },
  {
   "cell_type": "code",
   "execution_count": 19,
   "id": "34cf35b4",
   "metadata": {},
   "outputs": [],
   "source": [
    "from tensorflow import keras\n",
    "import os\n",
    "import numpy as np"
   ]
  },
  {
   "cell_type": "code",
   "execution_count": 18,
   "id": "6e7d2b83",
   "metadata": {},
   "outputs": [],
   "source": [
    "model = keras.models.load_model('G:\\\\Model2')"
   ]
  },
  {
   "cell_type": "code",
   "execution_count": 20,
   "id": "0d161069",
   "metadata": {},
   "outputs": [],
   "source": [
    "base_dir = 'G:/dataset/FPC'\n",
    "test_dir = os.path.join(base_dir, 'test')"
   ]
  },
  {
   "cell_type": "code",
   "execution_count": 21,
   "id": "250211ae",
   "metadata": {},
   "outputs": [
    {
     "name": "stdout",
     "output_type": "stream",
     "text": [
      "Found 600 files belonging to 3 classes.\n"
     ]
    }
   ],
   "source": [
    "test_ds = keras.utils.image_dataset_from_directory(test_dir,\n",
    "                                                      label_mode='categorical',\n",
    "                                                      batch_size=64,\n",
    "                                                      image_size=(160,160))"
   ]
  },
  {
   "cell_type": "code",
   "execution_count": 42,
   "id": "09902d14",
   "metadata": {},
   "outputs": [],
   "source": [
    "labels = np.array([])\n",
    "images = np.array([]).reshape(-1, 160, 160 , 3)\n",
    "for img_batch, lbls in test_ds:\n",
    "    images = np.concatenate([images, img_batch], axis=0)\n",
    "    labels = np.append(labels, np.argmax(lbls, axis=-1))\n",
    "\n",
    "images = images / 255"
   ]
  },
  {
   "cell_type": "code",
   "execution_count": 43,
   "id": "4aef96f6",
   "metadata": {},
   "outputs": [],
   "source": [
    "Y_pred = np.argmax(model.predict(images), axis=-1)"
   ]
  },
  {
   "cell_type": "code",
   "execution_count": 44,
   "id": "2330727e",
   "metadata": {},
   "outputs": [
    {
     "name": "stdout",
     "output_type": "stream",
     "text": [
      "Confusion Matrix\n",
      "[[200   0   0]\n",
      " [  1 195   4]\n",
      " [  0   6 194]]\n"
     ]
    }
   ],
   "source": [
    "from sklearn.metrics import classification_report, confusion_matrix\n",
    "print('Confusion Matrix')\n",
    "print(confusion_matrix(labels, Y_pred))"
   ]
  }
 ],
 "metadata": {
  "kernelspec": {
   "display_name": "Python 3 (ipykernel)",
   "language": "python",
   "name": "python3"
  },
  "language_info": {
   "codemirror_mode": {
    "name": "ipython",
    "version": 3
   },
   "file_extension": ".py",
   "mimetype": "text/x-python",
   "name": "python",
   "nbconvert_exporter": "python",
   "pygments_lexer": "ipython3",
   "version": "3.10.2"
  }
 },
 "nbformat": 4,
 "nbformat_minor": 5
}
